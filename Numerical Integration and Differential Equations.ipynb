{
  "nbformat": 4,
  "nbformat_minor": 0,
  "metadata": {
    "colab": {
      "provenance": []
    },
    "kernelspec": {
      "name": "python3",
      "display_name": "Python 3"
    },
    "language_info": {
      "name": "python"
    }
  },
  "cells": [
    {
      "cell_type": "markdown",
      "metadata": {
        "id": "oVpSlos3Ey2H"
      },
      "source": [
        "Nama : Vanda Sekar Annisa\n",
        "\n",
        "NIM  : 10320047\n",
        "\n",
        "PRAKTIKUM 4 ASTRONOMI KOMPUTASI\n",
        "\n",
        "MODUL INTEGRASI NUMERIK DAN PDB"
      ]
    },
    {
      "cell_type": "code",
      "metadata": {
        "id": "bnf_Mp10vzrR"
      },
      "source": [
        "import numpy as np\n",
        "import matplotlib.pyplot as plt\n",
        "from math import pi,sin,e\n",
        "import scipy.integrate as integrate"
      ],
      "execution_count": null,
      "outputs": []
    },
    {
      "cell_type": "markdown",
      "metadata": {
        "id": "bpHBl-oAzc3b"
      },
      "source": [
        "**LATIHAN 1.1**"
      ]
    },
    {
      "cell_type": "code",
      "metadata": {
        "id": "BnZNkb3mvmB4",
        "colab": {
          "base_uri": "https://localhost:8080/"
        },
        "outputId": "e7c5beea-0acf-4458-cdf5-d6da22d79340"
      },
      "source": [
        "# Membuat fungsi sinus\n",
        "def f(x):\n",
        " return x*sin(x)\n",
        "\n",
        "# Mendefinisikan nilai batas dan pias\n",
        "a = 0\n",
        "b = pi/2\n",
        "n = 6\n",
        "\n",
        "h = (b-a)/n\n",
        "S = 0.5*(f(a)+f(b))\n",
        "\n",
        "# Menhitung nilai integral\n",
        "for i in range(1,n):\n",
        "   S += f(a+i*h)\n",
        "\n",
        "Integral = h * S\n",
        "print('Integral = %f' % Integral)\n",
        "\n",
        "# Membuat fungsi error\n",
        "def e(x):\n",
        "    return ((2 * cos(x)) - (x * sin(x)))\n",
        "\n",
        "# Mendefinisikan variabel awal\n",
        "A = (b - a)**3 / (12 * n**2)\n",
        "err_sum = 0\n",
        "\n",
        "# Perhitungan galat\n",
        "for i in range(1,(n+1)):\n",
        "    err_sum += f(a + (((2*i) - 1)/2)*h)\n",
        "\n",
        "Err = A * (err_sum / n)\n",
        "print('Galat numerik = %f' % Err)"
      ],
      "execution_count": null,
      "outputs": [
        {
          "output_type": "stream",
          "name": "stdout",
          "text": [
            "Integral = 1.005731\n",
            "Galat numerik = 0.005695\n"
          ]
        }
      ]
    },
    {
      "cell_type": "code",
      "metadata": {
        "colab": {
          "base_uri": "https://localhost:8080/"
        },
        "id": "vSomThvF4ZE2",
        "outputId": "00ba2796-561f-43f2-dcf2-e720b60a91db"
      },
      "source": [
        "# Membuat fungsi sinus\n",
        "def f(x):\n",
        " return x*sin(x)\n",
        "\n",
        "# Mendefinisikan nilai batas dan pias\n",
        "a = 0\n",
        "b = pi/2\n",
        "n = 1000\n",
        "\n",
        "h = (b-a)/n\n",
        "S = 0.5*(f(a)+f(b))\n",
        "\n",
        "# Menghitung nilai integral\n",
        "for i in range(1,n):\n",
        "   S += f(a+i*h)\n",
        "\n",
        "Integral = h * S\n",
        "print('Integral = %f' % Integral)\n",
        "\n",
        "# Membuat fungsi error\n",
        "def e(x):\n",
        "    return ((2 * cos(x)) - (x * sin(x)))\n",
        "\n",
        "# Mendefinisikan variabel awal\n",
        "A = (b - a)**3 / (12 * n**2)\n",
        "err_sum = 0\n",
        "\n",
        "# Perhitungan galat\n",
        "for i in range(1,(n+1)):\n",
        "    err_sum += f(a + (((2*i) - 1)/2)*h)\n",
        "\n",
        "Err = A * (err_sum / n)\n",
        "print('Galat numerik = %f' % Err)"
      ],
      "execution_count": null,
      "outputs": [
        {
          "output_type": "stream",
          "name": "stdout",
          "text": [
            "Integral = 1.000000\n",
            "Galat numerik = 0.000000\n"
          ]
        }
      ]
    },
    {
      "cell_type": "markdown",
      "metadata": {
        "id": "CagbVw92710x"
      },
      "source": [
        "Berdasarkan nilai pias yg dicari yaitu 6 dan 1000 dapat disimpulkan bahwa semakin besar nilai pias maka nilai integral akan mendekati nilai sebenarnya dan dibuktikan dengan nilai galat intergrasi numeriknya mendekati nilai 0 yaitu semakin kecil."
      ]
    },
    {
      "cell_type": "markdown",
      "metadata": {
        "id": "gyxiEL4o0Oxe"
      },
      "source": [
        "**LATIHAN 1.2**"
      ]
    },
    {
      "cell_type": "code",
      "metadata": {
        "colab": {
          "base_uri": "https://localhost:8080/"
        },
        "id": "vTezoCoT_7CH",
        "outputId": "f1311537-751a-47dd-f6a4-143bfe6a5048"
      },
      "source": [
        "# Membuat fungsi sinus\n",
        "def f(x):\n",
        " return x*sin(x)\n",
        "\n",
        "# Mendefinisikan nilas batas\n",
        "a = 0\n",
        "b = pi/2\n",
        "n = 6\n",
        "h = (b-a)/n\n",
        "\n",
        "h = (b - a) / n\n",
        "S = (f(a) + f(b))\n",
        "\n",
        "# Menghitung nilai integral dengan metode simpson 1/3\n",
        "for i in range(1,n):\n",
        "    if (i % 2 != 0):\n",
        "        S += 4 * (f(a + i*h))\n",
        "    else:\n",
        "        S += 2 * (f(a + i*h))\n",
        "\n",
        "Integral = (h/3) * S\n",
        "print('Integral = %f' % Integral)\n"
      ],
      "execution_count": null,
      "outputs": [
        {
          "output_type": "stream",
          "name": "stdout",
          "text": [
            "Integral = 0.999921\n"
          ]
        }
      ]
    },
    {
      "cell_type": "markdown",
      "metadata": {
        "id": "5jtcGhIIBbC2"
      },
      "source": [
        "Jika dibandingkan dengan nilai galat integrasi numeriknya yang didapat di poin 1.1a  galat yang diperoleh dengan menggunakan metode simpson 1/3 lebih kecil dibandingkan trapezoidal , maka metode simpson 1/3 ini lebih efektif untuk digunakan.\n"
      ]
    },
    {
      "cell_type": "markdown",
      "metadata": {
        "id": "zy1ee9Hd4OLz"
      },
      "source": [
        "**LATIHAN 1.3**"
      ]
    },
    {
      "cell_type": "code",
      "metadata": {
        "colab": {
          "base_uri": "https://localhost:8080/"
        },
        "id": "htWosfW24NaD",
        "outputId": "b7145739-ba03-4e60-d143-1b5b4f4332b4"
      },
      "source": [
        "from scipy.integrate import quad\n",
        "\n",
        "# Membuat fungsi yang akan diintegralkan\n",
        "def f(x):\n",
        " return 3.0*x*x + 1.0\n",
        "\n",
        "I, err = quad(f, 0, 1)     # Perintah menghitung integral dengan urutan yaitu fungsi  integran, batas atas, dan batas bawah\n",
        "print('Integral = %f' % I)\n",
        "print('Error = %f' % err)\n"
      ],
      "execution_count": null,
      "outputs": [
        {
          "output_type": "stream",
          "name": "stdout",
          "text": [
            "Integral = 2.000000\n",
            "Error = 0.000000\n"
          ]
        }
      ]
    },
    {
      "cell_type": "code",
      "metadata": {
        "colab": {
          "base_uri": "https://localhost:8080/"
        },
        "id": "7Yg0ewcv5a9I",
        "outputId": "3212f61e-ce23-4097-961e-e890ebf6e881"
      },
      "source": [
        "from scipy.integrate import quad\n",
        "\n",
        "# Membuat fungsi yang akan diintegralkan\n",
        "def f(x):\n",
        " return x*sin(x)\n",
        "\n",
        "I, err = quad(f, 0, pi/2)  # Perintah menghitung integral dengan urutan yaitu fungsi  integran, batas atas, dan batas bawah\n",
        "print('Integral = %f' % I)\n",
        "print('Error = %f' % err)\n"
      ],
      "execution_count": null,
      "outputs": [
        {
          "output_type": "stream",
          "name": "stdout",
          "text": [
            "Integral = 1.000000\n",
            "Error = 0.000000\n"
          ]
        }
      ]
    },
    {
      "cell_type": "code",
      "metadata": {
        "colab": {
          "base_uri": "https://localhost:8080/"
        },
        "id": "5VeAQlNS5r96",
        "outputId": "a6c59fa7-ac30-4bc4-d2a9-03be16262ab9"
      },
      "source": [
        "from scipy.integrate import trapz\n",
        "from math import fabs\n",
        "\n",
        "# Membuat fungsi yang akan diintegralkan\n",
        "def f(x):\n",
        "  return x * np.sin(x)\n",
        "\n",
        "x = np.linspace(0, pi/2, 6)\n",
        "\n",
        "I = trapz(f(x), x)             # Mengitung integral fungsi\n",
        "print('Integral = %f' % I)\n",
        "err = fabs(I-1)*100            # Menentukan galat dalam persen\n",
        "print('Error    = %f' % err)"
      ],
      "execution_count": null,
      "outputs": [
        {
          "output_type": "stream",
          "name": "stdout",
          "text": [
            "Integral = 1.008265\n",
            "Error    = 0.826542\n"
          ]
        }
      ]
    },
    {
      "cell_type": "code",
      "metadata": {
        "colab": {
          "base_uri": "https://localhost:8080/"
        },
        "id": "lz5LqIUG7Pt0",
        "outputId": "4c5fffd2-a8de-47f7-b012-e900107c0f87"
      },
      "source": [
        "from scipy.integrate import simps\n",
        "from math import fabs\n",
        "\n",
        "# Membuat fungsi yang akan diintegralkan\n",
        "def f(x):\n",
        "  return x * np.sin(x)\n",
        "\n",
        "x = np.linspace(0, pi/2, 6)\n",
        "\n",
        "I = simps(f(x), x)             # Menghitung integral fungsi\n",
        "print('Integral = %f' % I)\n",
        "err = fabs(I-1)*100            # Mententukan galat dalam persen\n",
        "print('Error    = %f' % err)"
      ],
      "execution_count": null,
      "outputs": [
        {
          "output_type": "stream",
          "name": "stdout",
          "text": [
            "Integral = 1.000972\n",
            "Error    = 0.097213\n"
          ]
        }
      ]
    },
    {
      "cell_type": "markdown",
      "metadata": {
        "id": "LbDS1Eoh7xUQ"
      },
      "source": [
        "**LATIHAN 2.1**"
      ]
    },
    {
      "cell_type": "code",
      "metadata": {
        "colab": {
          "base_uri": "https://localhost:8080/"
        },
        "id": "oifUOp4V70BV",
        "outputId": "bc865047-25fb-4219-8d72-73dbdbfee9eb"
      },
      "source": [
        "# Mendefinisikan variabel-variabel yang akan digunakan\n",
        "df = lambda x,y: x*y\n",
        "\n",
        "x1 = 0 ; x2 = 2 ; h =0.5     # Ukuran langkah h=0.5\n",
        "n  = int((x2-x1)/h)\n",
        "\n",
        "x = 0\n",
        "y = 1\n",
        "a1 = [x]\n",
        "b1 = [y]\n",
        "print('-----Euler Method-----\\t')\n",
        "print('x \\t\\t y'); print('%f \\t %f' %(x,y))\n",
        "\n",
        "# Perhitungan dengan metode euler\n",
        "for i in range (1,n+1):\n",
        "  y += df(x,y)*h\n",
        "  x += h\n",
        "  a1.append(x)\n",
        "  b1.append(y)\n",
        "  print('%f \\t %f' %(x,y))\n",
        "\n",
        "# Perhitungan untuk metode analitik\n",
        "def f(x):\n",
        "  return e**((x**2)/2)\n",
        "\n",
        "print('')\n",
        "print('-----Analytic Method-----\\t')\n",
        "print('x \\t\\t y')# print('%f \\t %f' %(x,y))\n",
        "\n",
        "x = np.linspace(0,2,n+1)\n",
        "for i in x :\n",
        "  y = f(i)\n",
        "  x = i\n",
        "  print('%f \\t %f' %(x,y))\n"
      ],
      "execution_count": null,
      "outputs": [
        {
          "output_type": "stream",
          "name": "stdout",
          "text": [
            "-----Euler Method-----\t\n",
            "x \t\t y\n",
            "0.000000 \t 1.000000\n",
            "0.500000 \t 1.000000\n",
            "1.000000 \t 1.250000\n",
            "1.500000 \t 1.875000\n",
            "2.000000 \t 3.281250\n",
            "\n",
            "-----Analytic Method-----\t\n",
            "x \t\t y\n",
            "0.000000 \t 1.000000\n",
            "0.500000 \t 1.133148\n",
            "1.000000 \t 1.648721\n",
            "1.500000 \t 3.080217\n",
            "2.000000 \t 7.389056\n"
          ]
        }
      ]
    },
    {
      "cell_type": "code",
      "metadata": {
        "colab": {
          "base_uri": "https://localhost:8080/"
        },
        "id": "LpiRJlkuHqUx",
        "outputId": "e1be9335-f471-4eb9-fe42-67ceef6d2ae4"
      },
      "source": [
        "# Mendefinisikan variabel-variabel yang akan digunakan\n",
        "df = lambda x,y: x*y\n",
        "\n",
        "x1 = 0 ; x2 = 2 ; h =0.2     # Ukuran langkah h=0.2\n",
        "n  = int((x2-x1)/h)\n",
        "\n",
        "x = 0\n",
        "y = 1\n",
        "a2 = [x]\n",
        "b2 = [y]\n",
        "print('-----Euler Method-----\\t')\n",
        "print('x \\t\\t y'); print('%f \\t %f' %(x,y))\n",
        "\n",
        "# Perhitungan untuk metode euler\n",
        "for i in range (1,n+1):\n",
        "  y += df(x,y)*h\n",
        "  x += h\n",
        "  a2.append(x)\n",
        "  b2.append(y)\n",
        "  print('%f \\t %f' %(x,y))\n",
        "\n",
        "# Perhitungan untuk metode analitik\n",
        "def f(x):\n",
        "  return e**((x**2)/2)\n",
        "\n",
        "print('')\n",
        "print('-----Analytic Method-----\\t')\n",
        "print('x \\t\\t y')# print('%f \\t %f' %(x,y))\n",
        "\n",
        "x = np.linspace(0,2,n+1)\n",
        "for i in x :\n",
        "  y = f(i)\n",
        "  x = i\n",
        "  print('%f \\t %f' %(x,y))\n",
        "\n"
      ],
      "execution_count": null,
      "outputs": [
        {
          "output_type": "stream",
          "name": "stdout",
          "text": [
            "-----Euler Method-----\t\n",
            "x \t\t y\n",
            "0.000000 \t 1.000000\n",
            "0.200000 \t 1.000000\n",
            "0.400000 \t 1.040000\n",
            "0.600000 \t 1.123200\n",
            "0.800000 \t 1.257984\n",
            "1.000000 \t 1.459261\n",
            "1.200000 \t 1.751114\n",
            "1.400000 \t 2.171381\n",
            "1.600000 \t 2.779368\n",
            "1.800000 \t 3.668765\n",
            "2.000000 \t 4.989521\n",
            "\n",
            "-----Analytic Method-----\t\n",
            "x \t\t y\n",
            "0.000000 \t 1.000000\n",
            "0.200000 \t 1.020201\n",
            "0.400000 \t 1.083287\n",
            "0.600000 \t 1.197217\n",
            "0.800000 \t 1.377128\n",
            "1.000000 \t 1.648721\n",
            "1.200000 \t 2.054433\n",
            "1.400000 \t 2.664456\n",
            "1.600000 \t 3.596640\n",
            "1.800000 \t 5.053090\n",
            "2.000000 \t 7.389056\n"
          ]
        }
      ]
    },
    {
      "cell_type": "code",
      "metadata": {
        "colab": {
          "base_uri": "https://localhost:8080/",
          "height": 279
        },
        "id": "WXWxueVHIT8n",
        "outputId": "c6a0c871-5c42-4d2f-f236-d7b17df5566e"
      },
      "source": [
        "# Membuat plot perbandingan dari hasil numerik dengan ukuran langkah h=0.5 dan h=0.2\n",
        "x = np.linspace(0,2)\n",
        "y = f(x)\n",
        "\n",
        "plt.plot(x, y, label='Analytical', c='coral')\n",
        "plt.plot(a1,b1, marker = 'o', markerfacecolor = 'none', markeredgecolor = 'seagreen', label='h = 0.5', c='seagreen')\n",
        "plt.plot(a2,b2, marker = 's', markerfacecolor = 'none', markeredgecolor = 'seagreen', label='h = 0.2', c='royalblue')\n",
        "plt.xlabel('x')\n",
        "plt.ylabel('y')\n",
        "plt.legend()\n",
        "plt.show()"
      ],
      "execution_count": null,
      "outputs": [
        {
          "output_type": "display_data",
          "data": {
            "image/png": "[encoded data removed]",
            "text/plain": [
              "<Figure size 432x288 with 1 Axes>"
            ]
          },
          "metadata": {
            "needs_background": "light"
          }
        }
      ]
    },
    {
      "cell_type": "markdown",
      "metadata": {
        "id": "iSNWRuCHg2n2"
      },
      "source": [
        "**LATIHAN 2.2**"
      ]
    },
    {
      "cell_type": "code",
      "metadata": {
        "colab": {
          "base_uri": "https://localhost:8080/"
        },
        "id": "WhtQcq6Cg1ZU",
        "outputId": "32776e9f-2fc8-4b6d-e20d-1855d9c55653"
      },
      "source": [
        "# Mendefinisikan variabel-variabel yang akan digunakan\n",
        "df = lambda x,y: x*y\n",
        "\n",
        "x1 = 0 ; x2 = 2 ; h =0.5\n",
        "n  = int((x2-x1)/h)\n",
        "\n",
        "x = 0\n",
        "y = 1\n",
        "ark2 = [x]\n",
        "brk2 = [y]\n",
        "print('-----Runge Kutta 2nd Order Method-----\\t')\n",
        "print('x \\t\\t y'); print('%f \\t %f' %(x,y))\n",
        "\n",
        "# Perhitungan untuk metode runge kutta orde 2\n",
        "for i in range (1,n+1):\n",
        "  y += df((x+ (h/2)),y+(h/2)*df(x,y))*h\n",
        "  x += h\n",
        "  ark2.append(x)\n",
        "  brk2.append(y)\n",
        "  print('%f \\t %f' %(x,y))\n",
        "\n",
        "# Perhitungan untuk metode analitik\n",
        "def f(x):\n",
        "    return e**((x**2)/2)\n",
        "\n",
        "print('')\n",
        "print('-----Analytic Methode-----\\t')\n",
        "print('x \\t\\t y')# print('%f \\t %f' %(x,y))\n",
        "\n",
        "x = np.linspace(0,2,n+1)\n",
        "for i in x :\n",
        "    y = f(i)\n",
        "    x = i\n",
        "    print('%f \\t %f' %(x,y))\n",
        "\n"
      ],
      "execution_count": null,
      "outputs": [
        {
          "output_type": "stream",
          "name": "stdout",
          "text": [
            "-----Runge Kutta 2nd Order Method-----\t\n",
            "x \t\t y\n",
            "0.000000 \t 1.000000\n",
            "0.500000 \t 1.125000\n",
            "1.000000 \t 1.599609\n",
            "1.500000 \t 2.849304\n",
            "2.000000 \t 6.277373\n",
            "\n",
            "-----Analytic Methode-----\t\n",
            "x \t\t y\n",
            "0.000000 \t 1.000000\n",
            "0.500000 \t 1.133148\n",
            "1.000000 \t 1.648721\n",
            "1.500000 \t 3.080217\n",
            "2.000000 \t 7.389056\n"
          ]
        }
      ]
    },
    {
      "cell_type": "code",
      "metadata": {
        "colab": {
          "base_uri": "https://localhost:8080/",
          "height": 279
        },
        "id": "jsMyhWKGzhvk",
        "outputId": "5541cacf-4d58-4a24-9c50-7812b4ac0ca0"
      },
      "source": [
        "# Membuat plot perbandingan solusi numerik dengan RK orde 2 dan solusi analitik\n",
        "x = np.linspace(0,2)\n",
        "y = f(x)\n",
        "\n",
        "plt.plot(x, y, label='Analytical', c='tan')\n",
        "plt.plot(a1,b1, marker = 'o', markerfacecolor = 'none', markeredgecolor = 'magenta', label='Euler, h = 0.5', c='magenta')\n",
        "plt.plot(ark2,brk2, marker = 's', markerfacecolor = 'none', markeredgecolor = 'olive', label='RK2, h = 0.5', c='olive')\n",
        "plt.xlabel('x')\n",
        "plt.ylabel('y')\n",
        "plt.legend()\n",
        "plt.show()"
      ],
      "execution_count": null,
      "outputs": [
        {
          "output_type": "display_data",
          "data": {
            "image/png": "[encoded data removed]",
            "text/plain": [
              "<Figure size 432x288 with 1 Axes>"
            ]
          },
          "metadata": {
            "needs_background": "light"
          }
        }
      ]
    },
    {
      "cell_type": "markdown",
      "metadata": {
        "id": "sK-7SzBe2DrX"
      },
      "source": [
        "**LATIHAN 2.3**"
      ]
    },
    {
      "cell_type": "code",
      "metadata": {
        "colab": {
          "base_uri": "https://localhost:8080/"
        },
        "id": "GFzJqIph2GL8",
        "outputId": "4f91a68c-19fa-47fa-a841-2077cd01bf92"
      },
      "source": [
        "# Mendefinisikan variabel-variabel yang akan digunakan\n",
        "df = lambda x,y: x*y\n",
        "\n",
        "x1 = 0 ; x2 = 2 ; h =0.5\n",
        "n  = int((x2-x1)/h)\n",
        "\n",
        "x = 0\n",
        "y = 1\n",
        "ark4 = [x]\n",
        "brk4 = [y]\n",
        "print('-----Runge Kutta 2nd Order Method-----\\t')\n",
        "print('x \\t\\t y'); print('%f \\t %f' %(x,y))\n",
        "\n",
        "## Perhitungan untuk metode runge kutta orde 4\n",
        "for i in range (1,n+1):\n",
        "  K1 = h*df(x,y)\n",
        "  K2 = h*df((x+(h/2)), y+(K1/2))\n",
        "  K3 = h*df((x+(h/2)), y+(K2/2))\n",
        "  K4 = h*df((x+h), y+K3)\n",
        "  y += (K1 + 2*K2 + 2*K3 + K4)/6\n",
        "  x += h\n",
        "  ark4.append(x)\n",
        "  brk4.append(y)\n",
        "  print('%f \\t %f' %(x,y))\n",
        "\n",
        "# Perhitungan untuk metode analitik\n",
        "def f(x):\n",
        "  return e**((x**2)/2)\n",
        "\n",
        "print('')\n",
        "print('-----Analytic Method-----\\t')\n",
        "print('x \\t\\t y')# print('%f \\t %f' %(x,y))\n",
        "\n",
        "x = np.linspace(0,2,n+1)\n",
        "for i in x :\n",
        "  y = f(i)\n",
        "  x = i\n",
        "  print('%f \\t %f' %(x,y))\n"
      ],
      "execution_count": null,
      "outputs": [
        {
          "output_type": "stream",
          "name": "stdout",
          "text": [
            "-----Runge Kutta 2nd Order Method-----\t\n",
            "x \t\t y\n",
            "0.000000 \t 1.000000\n",
            "0.500000 \t 1.133138\n",
            "1.000000 \t 1.648528\n",
            "1.500000 \t 3.077976\n",
            "2.000000 \t 7.366803\n",
            "\n",
            "-----Analytic Method-----\t\n",
            "x \t\t y\n",
            "0.000000 \t 1.000000\n",
            "0.500000 \t 1.133148\n",
            "1.000000 \t 1.648721\n",
            "1.500000 \t 3.080217\n",
            "2.000000 \t 7.389056\n"
          ]
        }
      ]
    },
    {
      "cell_type": "code",
      "metadata": {
        "colab": {
          "base_uri": "https://localhost:8080/",
          "height": 279
        },
        "id": "_km9_r912uog",
        "outputId": "7fc4ac7a-f03b-4e37-806e-5f72b61381f8"
      },
      "source": [
        "# Membuat plot perbandingan solusi numerik dengan RK orde 4 dan solusi analitik\n",
        "x = np.linspace(0,2)\n",
        "y = f(x)\n",
        "\n",
        "plt.plot(x, y, label='Analytical', c='lightsalmon')\n",
        "plt.plot(ark2,brk2, marker = 'o', markerfacecolor = 'none', markeredgecolor = 'skyblue', label='RK2, h = 0.5', c='skyblue')\n",
        "plt.plot(ark4,brk4, marker = 's', markerfacecolor = 'none', markeredgecolor = 'slategrey', label='RK4, h = 0.5', c='slategrey')\n",
        "plt.xlabel('x')\n",
        "plt.ylabel('y')\n",
        "plt.legend()\n",
        "plt.show()"
      ],
      "execution_count": null,
      "outputs": [
        {
          "output_type": "display_data",
          "data": {
            "image/png": "[encoded data removed]",
            "text/plain": [
              "<Figure size 432x288 with 1 Axes>"
            ]
          },
          "metadata": {
            "needs_background": "light"
          }
        }
      ]
    }
  ]
}