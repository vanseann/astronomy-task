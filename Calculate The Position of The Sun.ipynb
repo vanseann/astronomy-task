{
 "cells": [
  {
   "cell_type": "markdown",
   "metadata": {
    "id": "Ab8Ygn5f3bDq"
   },
   "source": [
    "\n",
    "# **Tugas Menghitung Posisi Matahari**\n",
    "\n",
    "Nama : Vanda Sekar Annisa\n",
    "\n",
    "NIM  :10320047\n",
    "\n",
    "\n",
    "---\n",
    "\n"
   ]
  },
  {
   "cell_type": "markdown",
   "metadata": {
    "id": "aKkeHNFkCGxp"
   },
   "source": [
    "\n",
    "Berikut hal yang akan dihitung dalam menghitung posisi matahari.\n",
    "\n",
    "\n",
    "**Jarak Bumi-Matahari(R) :**\n",
    "\n",
    "$ R = \\frac{1.000001018(1-e^2)}{1+ecosv} $\n",
    "\n",
    "**Apparent longitude of the Sun (λ) :**\n",
    "\n",
    "$ λ = Θ - 0.00569° - 0.00478° sinΩ $\n",
    "\n",
    "dengan Ω adalah\n",
    "\n",
    "$ Ω = 125.04° - 1934.136°T $\n",
    "\n",
    "**RA(α) dan dec(δ) Matahari :**\n",
    "\n",
    "$ tanα= \\frac{(cosϵ)(sinΘ)}{cosΘ} $\n",
    "\n",
    "\n"
   ]
  },
  {
   "cell_type": "markdown",
   "metadata": {
    "id": "D2L2VTyRu39A"
   },
   "source": [
    "a) 13 Oktober 1992 jam 0h TD = JDE 2448908.5, dan\n",
    "\n",
    "b) 20 April 2023 jam 04:16:44 UT = JD 2460054.678298"
   ]
  },
  {
   "cell_type": "code",
   "execution_count": 2,
   "metadata": {
    "id": "ceWY3mSifmtI"
   },
   "outputs": [],
   "source": [
    "from math import *"
   ]
  },
  {
   "cell_type": "code",
   "execution_count": 12,
   "metadata": {
    "id": "DW4ugwuFTARo"
   },
   "outputs": [],
   "source": [
    "# mendefinikan nilai JD \n",
    "JD1 = 2448908.5\n",
    "JD2 = 2460002.7845833334 # mengoversi UT ke JD\n",
    "\n",
    "# membuat fungsi untuk masing-masing parameter dan mendefinisikan nilai paramaternya\n",
    "def time(JD):\n",
    "  T = (JD - 2451545.0)/36525.0\n",
    "  return T\n",
    "\n",
    "T1 = time(JD1)\n",
    "T2 = time(JD2)\n",
    "\n",
    "def longtitudeme(T):\n",
    "  L0 = 280.46645 + 36000.76983*T + 0.000302*T**2\n",
    "  return L0\n",
    "\n",
    "def meanano(T):\n",
    "  M = 357.52910 + 35999.05030*T - 0.0001559*T**2 - 0.00000058*T**3\n",
    "  return M\n",
    "\n",
    "def eccentricity(T): \n",
    "  e = 0.016708617 - 0.000042037*T - 0.0000001236*T**2\n",
    "  return e\n",
    "\n",
    "M1 = meanano(T1) + 2520\n",
    "M2 = meanano(T2) - 8640\n",
    "\n",
    "def center(T, M):\n",
    "  C = +(1.914600 - 0.004817*T - 0.000014*T**2)*(sin(radians(M))) + (0.019993 - 0.000101*T)*(sin(radians(2*M))) + 0.000290*(sin(radians(3*M))) \n",
    "  return C\n",
    "\n",
    "L01 = longtitudeme(T1) + 2520\n",
    "L02 = longtitudeme(T2) - 8280\n",
    "C1 = center(T1, M1) \n",
    "C2 = center(T2, M2)\n",
    "\n",
    "def  suntrue(L0, C):\n",
    "  theta = L0 + C\n",
    "  return theta\n",
    "\n",
    "def trueano(M, C):\n",
    "  v = M + C\n",
    "  return v\n",
    "\n",
    "v1 = trueano(M1, C1)\n",
    "v2 = trueano(M2, C2)\n",
    "e1 = eccentricity(T1)\n",
    "e2 = eccentricity(T2)\n",
    "\n",
    "def distance(e, v):\n",
    "  R = (1.000001018*(1 - e**2))/(1 + e*cos(radians(v)))\n",
    "  return R\n",
    "\n",
    "def nutation(T):\n",
    "  omega = 125.04 - 1934.136*T - 0.0036825*T**2 + T**3/327270\n",
    "  return omega\n",
    "\n",
    "omega1 = nutation(T1)\n",
    "omega2 = nutation(T2) - 8640\n",
    "theta1 = suntrue(L01, C1)\n",
    "theta2 = suntrue(L02, C2)\n",
    "\n",
    "def abberation(theta, omega):\n",
    "  Lambda = theta - 0.00569 - 0.00478*sin(radians(omega))\n",
    "  return Lambda\n",
    "\n",
    "def meanobliquity(T):\n",
    "  epsilon0 = (23 + (26/60.0) + (21.448/3600.0)) - ((46.8150/3600.0)*T) - ((0.00059/3600.0)*T**2) + ((0.001813*T**3))\n",
    "  return epsilon0\n",
    "\n",
    "epsilon01 = meanobliquity(T1)\n",
    "epsilon02 = meanobliquity(T2)\n",
    "\n",
    "def obliquity(epsilon0, omega):\n",
    "  epsilon = epsilon0 + 0.00256*((cos(radians(omega))))\n",
    "  return epsilon\n",
    "\n",
    "epsilon1 = obliquity(epsilon01, omega1)\n",
    "epsilon2 = obliquity(epsilon02, omega2)\n",
    "\n",
    "def ra(epsilon, theta):\n",
    "  alpha = degrees(atan(cos(radians(epsilon))*tan(radians(theta)))) \n",
    "  return alpha\n",
    "\n",
    "def dec(epsilon, theta):\n",
    "  delta = degrees(asin(sin(radians(epsilon))*sin(radians(theta))))\n",
    "  return delta"
   ]
  },
  {
   "cell_type": "code",
   "execution_count": 13,
   "metadata": {
    "colab": {
     "base_uri": "https://localhost:8080/",
     "height": 0
    },
    "id": "UWcSOpodHWEO",
    "outputId": "42f5fa45-b762-4513-fff3-02b924f96e8a"
   },
   "outputs": [
    {
     "name": "stdout",
     "output_type": "stream",
     "text": [
      "R  = 0.9976619549420972\n",
      "Ω  = 264.65256298796584\n",
      "λ  = 199.90893467163224\n",
      "α  = 13.22544590240337\n",
      "δ  = -7.78541823866198\n"
     ]
    }
   ],
   "source": [
    "# hasil nilai yang diperoleh dari soal\n",
    "print('R  =', distance(e1, v1))\n",
    "print('Ω  =', nutation(T1))\n",
    "print('λ  =', abberation(theta1, omega1))\n",
    "print('α  =', (ra(epsilon1, theta1)+180)/15) # menyesuaikan RA dengan kuadran dari parameter \n",
    "print('δ  =', dec(epsilon1, theta1))"
   ]
  },
  {
   "cell_type": "code",
   "execution_count": 16,
   "metadata": {
    "colab": {
     "base_uri": "https://localhost:8080/",
     "height": 0
    },
    "id": "ZdRPWMzcnBTg",
    "outputId": "90035008-09ba-4096-8772-17d83e0f051c"
   },
   "outputs": [
    {
     "name": "stdout",
     "output_type": "stream",
     "text": [
      "T  = 0.23156152178873138\n",
      "L0 = 8616.85951359411 = 336.85951359411047\n",
      "M  = 8693.523962050413 = 53.52396205041259\n",
      "e  = 0.0166988762207853\n",
      "C  = 1.5578315731500612\n",
      "Θ  = 338.4173451672605\n",
      "v  = 55.08179362356265\n",
      "ε0 = 23.436302348814436\n",
      "ε  = 23.43834232069743\n"
     ]
    }
   ],
   "source": [
    "# paramater yang digunakan untuk mendapatkan nilai sesuai dengan soal\n",
    "print('T  =', time(JD2))\n",
    "print('L0 =', longtitudeme(T2), '=', longtitudeme(T2)-8280)\n",
    "print('M  =', meanano(T2), '=', meanano(T2)-8640)\n",
    "print('e  =', eccentricity(T2))\n",
    "print('C  =', center(T2, M2))\n",
    "print('Θ  =', suntrue(L02, C2))\n",
    "print('v  =', trueano(M2, C2)) \n",
    "print('ε0 =', meanobliquity(T2))\n",
    "print('ε  =', obliquity(epsilon02, omega2))"
   ]
  },
  {
   "cell_type": "code",
   "execution_count": 23,
   "metadata": {
    "colab": {
     "base_uri": "https://localhost:8080/",
     "height": 0
    },
    "id": "lblTKZvb8tyF",
    "outputId": "7abd08a9-c03a-4bf8-ddb2-fd1a802f3a86"
   },
   "outputs": [
    {
     "name": "stdout",
     "output_type": "stream",
     "text": [
      "R  = 0.9902567519462958\n",
      "Ω  = 37.16832707320083\n",
      "λ  = 338.40876728865885\n",
      "α  = 340.05223144453964\n",
      "δ  = -8.413376225034407\n"
     ]
    }
   ],
   "source": [
    "# hasil nilai yang diperoleh dari soal\n",
    "print('R  =', distance(e2, v2))\n",
    "print('Ω  =', nutation(T2)+360)\n",
    "print('λ  =', abberation(theta2, omega2))\n",
    "print('α  =', (ra(epsilon2, theta2)+360)) # menyesuaikan RA dengan kuadran dari parameter\n",
    "print('δ  =', dec(epsilon2, theta2))"
   ]
  },
  {
   "cell_type": "code",
   "execution_count": null,
   "metadata": {},
   "outputs": [],
   "source": []
  }
 ],
 "metadata": {
  "colab": {
   "provenance": []
  },
  "kernelspec": {
   "display_name": "Python 3 (ipykernel)",
   "language": "python",
   "name": "python3"
  },
  "language_info": {
   "codemirror_mode": {
    "name": "ipython",
    "version": 3
   },
   "file_extension": ".py",
   "mimetype": "text/x-python",
   "name": "python",
   "nbconvert_exporter": "python",
   "pygments_lexer": "ipython3",
   "version": "3.9.13"
  }
 },
 "nbformat": 4,
 "nbformat_minor": 1
}
