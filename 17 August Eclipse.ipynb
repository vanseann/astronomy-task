{
 "cells": [
  {
   "cell_type": "markdown",
   "id": "67dd14a1",
   "metadata": {},
   "source": [
    "# **Tugas Gerhana**\n",
    "\n",
    "Nama : Vanda Sekar Annisa\n",
    "\n",
    "NIM  :10320047\n",
    "\n",
    "---"
   ]
  },
  {
   "cell_type": "code",
   "execution_count": 4,
   "id": "b2991092",
   "metadata": {},
   "outputs": [],
   "source": [
    "# library\n",
    "from math import *\n",
    "from datetime import datetime\n",
    "import pandas as pd"
   ]
  },
  {
   "cell_type": "code",
   "execution_count": 5,
   "id": "fc917e7d",
   "metadata": {},
   "outputs": [],
   "source": [
    "# full moon fuction\n",
    "def fullmoon(y):\n",
    "    k = int((y - 2000) * 12.3685) + 0.5\n",
    "    t = k/1236.85\n",
    "    J = 2451550.09766+29.530588861*k+0.00015437*(t**2)-0.000000150*(t**3)+0.00000000073*(t**4)\n",
    "    E = 1 - 0.002516*t - 0.0000074*t**2\n",
    "    Ms = 2.5534 + 29.10535670*k - 0.0000014*t**2 - 0.00000011*t**3\n",
    "    Mm = 201.5643 + 385.81693528*k + 0.0107582*t**2 + 0.00001238*t**3 - 0.000000058*t**4\n",
    "    F = 160.7108 + 390.67050284*k - 0.0016118*t**2 - 0.00000227*t**3 + 0.000000011*t**4\n",
    "    ome = 124.7746 - 1.56375588*k + 0.0020672*t**2 + 0.00000215*t**3\n",
    "    corr1 = (-0.40614*E*sin(radians(Mm))) + 0.17302*E*sin(radians(Ms)) + 0.01614*sin(radians(2*Mm)) + 0.01043*sin(radians(2*F)) + 0.00734*E*sin(radians(Mm-Ms)) - 0.00515*E*sin(radians((Mm+Ms))) + 0.00209*(E**2)*sin(radians(2*Ms)) - 0.00111*sin(radians(Mm-(2*F))) - 0.00057*sin(radians((Mm + (2*F)))) + 0.00056*E*sin(radians((2*Mm)+Ms)) - 0.00042*sin(radians(3*Mm)) + 0.00042*E*sin(radians(Ms-(2*F))) + 0.00038*E*sin(radians(Ms-(2*F))) - 0.00024*E*sin(radians((2*Mm)-Ms)) - 0.00017*sin(radians(ome)) - 0.00007*sin(radians((Mm + 2*Ms))) + 0.00004*sin(radians((2*Mm)-(2*F))) + 0.00004*sin(radians(3*Ms)) + 0.00003*sin(radians(Mm+Ms - (2*F))) + 0.00003*sin(radians((2*Mm)+(2*F))) - 0.00003*sin(radians(Mm+Ms+(2*F))) + 0.00003*sin(radians(Mm-Ms+(2*F))) - 0.00002*sin(radians(Mm-Ms-(2*F))) - 0.00002*sin(radians((3*Mm)+Ms)) + 0.00002*sin(radians(4*Mm))\n",
    "\n",
    "    A1 = 299.77 + 0.0107408*k - 0.009173*t**2\n",
    "    A2 = 251.88 + 0.016321*k \n",
    "    A3 = 251.83 + 26.651886*k\n",
    "    A4 = 349.42 + 36.412478*k\n",
    "    A5 = 84.66 + 18.206239*k\n",
    "    A6 = 141.74 + 53.303771*k\n",
    "    A7 = 207.14 + 2.453732*k\n",
    "    A8 = 154.84 + 7.306860*k\n",
    "    A9 = 34.52 + 27.261239*k\n",
    "    A10 = 207.19 + 0.121824*k\n",
    "    A11 = 291.34 + 1.844379*k\n",
    "    A12 = 161.72 + 24.198154*k\n",
    "    A13 = 239.56 + 25.513099*k\n",
    "    A14 = 331.55 + 3.592518*k\n",
    "    corr2 = +0.000325*sin(radians(A1))+0.000165*sin(radians(A2))+0.000164*sin(radians(A3))+0.000126*sin(radians(A4))+0.000110*sin(radians(A5))+0.000062*sin(radians(A6))+0.00060*sin(radians(A7))+0.000056*sin(radians(A8))+0.000047*sin(radians(A9))+0.000042*sin(radians(A10))+0.000040*sin(radians(A11))+0.000037*sin(radians(A12))+0.000035*sin(radians(A13))+0.00023*sin(radians(A14))\n",
    "    JDEMP = J + corr1 + corr2\n",
    "    \n",
    "    # convert J to gregorian day\n",
    "    JD = JDEMP + 0.5\n",
    "    f = JD%1\n",
    "    z =  JD - f\n",
    "    if z<2299161:\n",
    "        A = Z\n",
    "    elif z>=2299161:\n",
    "        alpha = int((z - 1867216.25)/36524.25)\n",
    "        A = int((z + 1 + alpha)-((alpha/4)))\n",
    "        \n",
    "    B = int(A + 1524)\n",
    "    C = int(((B - 122.1)/365.25))\n",
    "    D = int(365.25*C)\n",
    "    E = int((B - D)/30.6001)\n",
    "    \n",
    "    # day\n",
    "    day = B - D - int((30.6001*E)) + f\n",
    "    day1 = int(day)\n",
    "\n",
    "    # month \n",
    "    if E<14:\n",
    "        month = E - 1\n",
    "    else:\n",
    "        month = E - 13\n",
    "    \n",
    "    # year\n",
    "    if month>2:\n",
    "        year = C - 4716\n",
    "    else:\n",
    "        year = C - 4715\n",
    "\n",
    "    # hour\n",
    "    hour = (day - int(day))*24 + 7 \n",
    "\n",
    "    if hour>24:\n",
    "        hour1 = int(hour) - 24\n",
    "        day = day + 1\n",
    "    else:\n",
    "        hour1 = int(hour)\n",
    "\n",
    "    # minute\n",
    "    minute = (hour - int(hour))*60\n",
    "\n",
    "    if minute>60:\n",
    "        minute1 = int(minute) - 60\n",
    "        hour = hour + 1\n",
    "    else:\n",
    "        minute1 = int(minute)\n",
    "\n",
    "    # second\n",
    "    second = int((minute - int(minute))*60)\n",
    "    result = datetime(year, month, day1, hour1, minute1, second)\n",
    "    return result"
   ]
  },
  {
   "cell_type": "code",
   "execution_count": 6,
   "id": "052f4295",
   "metadata": {
    "scrolled": true
   },
   "outputs": [
    {
     "name": "stdout",
     "output_type": "stream",
     "text": [
      "\u001b[1mFull moon will occur on\u001b[0m\n",
      "2023-08-31 08:35:20 WIB\n",
      "2024-08-19 01:24:54 WIB\n",
      "2025-08-09 14:54:08 WIB\n",
      "2026-08-28 11:18:52 WIB\n",
      "2027-08-17 14:29:46 WIB\n",
      "2028-09-03 06:49:16 WIB\n",
      "2029-08-24 08:53:31 WIB\n"
     ]
    }
   ],
   "source": [
    "# create a range from 2023 to 2023\n",
    "year1 = []\n",
    "print('\\033[1m' + 'Full moon will occur on' + '\\033[0m')\n",
    "\n",
    "for i in range (2023,2030):\n",
    "    tahun = i + 0.629\n",
    "    year1.append(tahun)\n",
    "    for j in year1:\n",
    "        p = fullmoon(j)\n",
    "    print(p, 'WIB')"
   ]
  },
  {
   "cell_type": "markdown",
   "id": "543f8187",
   "metadata": {},
   "source": [
    "##### In the range from 2023 to 2023 the full moon on August 17 occurs in 2027"
   ]
  },
  {
   "cell_type": "code",
   "execution_count": 7,
   "id": "2f1c4c74",
   "metadata": {},
   "outputs": [
    {
     "name": "stdout",
     "output_type": "stream",
     "text": [
      "central\n",
      "the eclipse is total\n",
      "the magnitude of the of the eclipse is 2.6800498245520017\n"
     ]
    }
   ],
   "source": [
    "k = int((2027.6269 - 2000) * 12.3685) \n",
    "t = k/1236.85\n",
    "J = 2451550.09766+29.530588861*k+0.00015437*(t**2)-0.000000150*(t**3)+0.00000000073*(t**4)\n",
    "E = 1 - 0.002516*t - 0.0000074*t**2\n",
    "Ms = 2.5534 + 29.10535670*k - 0.0000014*t**2 - 0.00000011*t**3\n",
    "Mm = 201.5643 + 385.81693528*k + 0.0107582*t**2 + 0.00001238*t**3 - 0.000000058*t**4\n",
    "F = 160.7108 + 390.67050284*k - 0.0016118*t**2 - 0.00000227*t**3 + 0.000000011*t**4\n",
    "omega = 124.7746 - 1.56375588*k + 0.0020672*t**2 + 0.00000215*t**3\n",
    "F1 = F - 0.02665*sin(radians(omega))\n",
    "P = 0.2070*E*sin(radians(Ms)) + 0.0024*E*sin(radians(2*Ms)) - 0.0392*sin(radians(Mm)) + 0.0116*sin(radians(2*Mm)) - 0.0073*E*sin(radians(Mm+Ms)) + 0.0067*E*sin(radians(Ms-Mm)) + 0.0118*sin(radians(2*F1))\n",
    "Q = 5.2207 - 0.0048*E*cos(radians(Ms)) + 0.0020*E*cos(radians(2*Ms)) - 0.3299*cos(radians(Mm)) - 0.0060*E*cos(radians(Mm+Ms) + 0.0041*E*cos(radians(Mm+Ms)))\n",
    "W = abs(cos(radians(F1)))\n",
    "gamma = (P*cos(radians(F1)) + Q*sin(radians(F1)) * (1-0.0048*W))\n",
    "u = 0.0059 + 0.0046*E*cos(radians(Ms)) - 0.0182*cos(radians(Mm)) + 0.0004*cos(radians(2*Mm))-0.0005*cos(radians(Ms+Mm))\n",
    "w = 0.00464*sqrt(1-gamma**2)\n",
    "\n",
    "if gamma>0.9972 and gamma<(1.5433+u):\n",
    "    print('not central')\n",
    "elif gamma>0.9972 and gamma<1.0260:\n",
    "    print('the umbral cone may touch the surface of the Earth')\n",
    "elif gamma>(1.5433+u):\n",
    "    print('no eclipse')\n",
    "else:\n",
    "    print('central')\n",
    "    \n",
    "if u<0:\n",
    "    print('the eclipse is total')\n",
    "elif u>0.0047:\n",
    "    print('the eclipse is annular')\n",
    "elif u<w:\n",
    "    print('the eclipse is annular-total')\n",
    "    \n",
    "mag = ((1.5433 + u)-abs(gamma)) /  (0.5461+2*u)  \n",
    "print('the magnitude of the of the eclipse is', mag)\n"
   ]
  },
  {
   "cell_type": "code",
   "execution_count": null,
   "id": "93a3ce87",
   "metadata": {},
   "outputs": [],
   "source": []
  }
 ],
 "metadata": {
  "kernelspec": {
   "display_name": "Python 3 (ipykernel)",
   "language": "python",
   "name": "python3"
  },
  "language_info": {
   "codemirror_mode": {
    "name": "ipython",
    "version": 3
   },
   "file_extension": ".py",
   "mimetype": "text/x-python",
   "name": "python",
   "nbconvert_exporter": "python",
   "pygments_lexer": "ipython3",
   "version": "3.9.13"
  }
 },
 "nbformat": 4,
 "nbformat_minor": 5
}
