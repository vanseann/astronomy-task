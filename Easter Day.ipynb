{
 "cells": [
  {
   "cell_type": "markdown",
   "id": "8daa3480",
   "metadata": {},
   "source": [
    "### Nama : Vanda Sekar Annisa\n",
    "\n",
    "### NIM  : 10320047\n",
    "\n",
    "### Tugas 2 AS3006 Sistem Kalender\n",
    "\n",
    "### Menghitung Hari Paskah\n",
    "\n",
    "---"
   ]
  },
  {
   "cell_type": "code",
   "execution_count": 5,
   "id": "b70280ea",
   "metadata": {},
   "outputs": [],
   "source": [
    "# library yang diperlukan \n",
    "from math import *\n",
    "import datetime"
   ]
  },
  {
   "cell_type": "code",
   "execution_count": 6,
   "id": "087303da",
   "metadata": {},
   "outputs": [
    {
     "name": "stdout",
     "output_type": "stream",
     "text": [
      "Input tahun untuk mencari tanggal paskah yang diinginkan? 2023\n",
      "Hari paskah jatuh pada tanggal  2023-04-09\n"
     ]
    }
   ],
   "source": [
    "# meng-input tahun paskah yang diinginkan\n",
    "year = int(input('Input tahun untuk mencari tanggal paskah yang diinginkan? '))\n",
    "\n",
    "# persamaan-persamaan yang digunakan untuk mencari tanggal dan bulan paskah pada tahun yang diinginkan\n",
    "A = year%19\n",
    "B = year//100\n",
    "C = year%100\n",
    "D = B//4\n",
    "E = B%4\n",
    "F = (B+8)//25\n",
    "G = (B - F +1)//3\n",
    "H = ((19*A) + B - D - G + 15)%30\n",
    "I = C//4\n",
    "K = C%4\n",
    "L = (32 + (2*E) + (2*I) - H - K)%7\n",
    "M = (A + (11*H) + (22*L))//451\n",
    "Q = H + L - 7*M + 114\n",
    "N = Q//31\n",
    "P = Q%31\n",
    "\n",
    "day = P + 1\n",
    "month = N\n",
    "\n",
    "# mencetak hasil dari perhitungan hari paskah\n",
    "easter = datetime.date(year, month, day)\n",
    "print('Hari paskah jatuh pada tanggal ', easter)"
   ]
  },
  {
   "cell_type": "code",
   "execution_count": 8,
   "id": "e2517d5a",
   "metadata": {},
   "outputs": [
    {
     "data": {
      "text/plain": [
       "48"
      ]
     },
     "execution_count": 8,
     "metadata": {},
     "output_type": "execute_result"
    }
   ],
   "source": [
    "P+40"
   ]
  },
  {
   "cell_type": "code",
   "execution_count": 9,
   "id": "e5fb70a9",
   "metadata": {},
   "outputs": [
    {
     "data": {
      "text/plain": [
       "18"
      ]
     },
     "execution_count": 9,
     "metadata": {},
     "output_type": "execute_result"
    }
   ],
   "source": [
    "48-30"
   ]
  }
 ],
 "metadata": {
  "kernelspec": {
   "display_name": "Python 3 (ipykernel)",
   "language": "python",
   "name": "python3"
  },
  "language_info": {
   "codemirror_mode": {
    "name": "ipython",
    "version": 3
   },
   "file_extension": ".py",
   "mimetype": "text/x-python",
   "name": "python",
   "nbconvert_exporter": "python",
   "pygments_lexer": "ipython3",
   "version": "3.9.13"
  }
 },
 "nbformat": 4,
 "nbformat_minor": 5
}
