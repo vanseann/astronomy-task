{
 "cells": [
  {
   "cell_type": "markdown",
   "id": "cd736ea3",
   "metadata": {},
   "source": [
    "\n",
    "# **Tugas Menghitung Iluminasi dan Fase Bulan**\n",
    "\n",
    "Nama : Vanda Sekar Annisa\n",
    "\n",
    "NIM  :10320047\n",
    "\n",
    "---"
   ]
  },
  {
   "cell_type": "markdown",
   "id": "31596490",
   "metadata": {},
   "source": [
    "#### fraksi iluminasi Bulan tanggal 12 Agustus 2023 jam 18.00 WIB.  "
   ]
  },
  {
   "cell_type": "code",
   "execution_count": 1,
   "id": "ad8a22e6",
   "metadata": {},
   "outputs": [],
   "source": [
    "# library\n",
    "from math import *\n",
    "import datetime\n",
    "import pandas as pd\n",
    "import numpy as np"
   ]
  },
  {
   "cell_type": "code",
   "execution_count": 1,
   "id": "cab94a38",
   "metadata": {
    "scrolled": true
   },
   "outputs": [
    {
     "name": "stdout",
     "output_type": "stream",
     "text": [
      "tahun berapa   : 2023\n",
      "bulan berapa   : 2\n",
      "tanggal berapa : 4\n",
      "jam berapa (UT): 0\n",
      "2459979.5\n"
     ]
    }
   ],
   "source": [
    "\n",
    "y = int(input('tahun berapa   : '))\n",
    "m = int(input('bulan berapa   : '))\n",
    "d = int(input('tanggal berapa : '))\n",
    "h = float(input('jam berapa (UT): '))\n",
    "\n",
    "# convert to julian day\n",
    "A = int(y/100)\n",
    "B = 2 - A + int(A/4)\n",
    "\n",
    "if m == 1 or m == 2:\n",
    "    y = y - 1\n",
    "    m = m + 12\n",
    "else:\n",
    "    y = y\n",
    "    m = m\n",
    "\n",
    "JD = int(365.25*(y+4716)) + int(30.6001*(m+1)) + d + B - 1524.5 + (h/24)\n",
    "\n",
    "##print('JD pada tanggal' , datetime.date(y, m, d), 'jam', h, 'adalah', JD)\n",
    "\n",
    "print (JD)"
   ]
  },
  {
   "cell_type": "code",
   "execution_count": 412,
   "id": "7962347d",
   "metadata": {},
   "outputs": [
    {
     "name": "stdout",
     "output_type": "stream",
     "text": [
      "Iluminasi Bulan pada tanggal 2023-08-12 pada jam 11 adalah 13.590538074834352 %\n"
     ]
    }
   ],
   "source": [
    "# function to find illuminated fraction\n",
    "def time(JD):\n",
    "    T = (JD - 2451545)/36525\n",
    "    return T\n",
    "\n",
    "T1 = time(JD)\n",
    "\n",
    "def sunelong(T):\n",
    "    D = 297.8501921 + 445267.1114034*T - 0.0018819*T**2 + T**3/545868  - T**4/113065000\n",
    "    return D\n",
    "\n",
    "D1 = sunelong(T1)\n",
    "\n",
    "def sunano(T):\n",
    "    MS = 357.5291092 + 35999.0502909*T - 0.0001536*T**2 + T**3/24490000\n",
    "    return MS\n",
    "\n",
    "MS1 = sunano(T1)\n",
    "\n",
    "def moonano(T):\n",
    "    MM = 134.9633964 + 477198.8675055*T + 0.0087414*T**2 + T**3/69699 - T**4/14712000\n",
    "    return MM\n",
    "\n",
    "MM1 = moonano(T1)\n",
    "\n",
    "def phaseangle(MM, MS, D):\n",
    "    i = 180 - D - 6.289*sin(radians(MM)) + 2.100*sin(radians(MS)) - 1.4*sin(radians(2*D - MM)) - 0.658*sin(radians(2*D)) - 0.214*sin(radians(2*MM)) - 0.110*sin(radians(D))\n",
    "    return i \n",
    "\n",
    "i1 = phaseangle(MM1, MS1, D1)\n",
    "\n",
    "# formula of illuminated fraction of the moon's disk\n",
    "k = ((1 + cos(radians(i1)))/2)*100\n",
    "print('Iluminasi Bulan pada tanggal', datetime.date(y, m, d), 'pada jam', h, 'adalah', k,'%')\n"
   ]
  },
  {
   "cell_type": "markdown",
   "id": "cca31223",
   "metadata": {},
   "source": [
    "#### Tanggal terjadinya fase bulan baru, bulan setengah (kuartil awal dan kuartil akhir), dan purnama sepanjang tahun 2023."
   ]
  },
  {
   "cell_type": "code",
   "execution_count": 4,
   "id": "7bfee75f",
   "metadata": {},
   "outputs": [],
   "source": [
    "df = pd.read_excel('data bulan.xlsx')"
   ]
  },
  {
   "cell_type": "code",
   "execution_count": 5,
   "id": "7b8766c1",
   "metadata": {},
   "outputs": [],
   "source": [
    "# find julian day\n",
    "df['t'] = df.k/1236.8\n",
    "df['J0'] = 2451550.09765 + 29.530588853 *df.k + (1.337*10**-4)*df.t**2 - (1.5*10**-7)*df.t**3+(7.3*10**-10)*df.t**4"
   ]
  },
  {
   "cell_type": "code",
   "execution_count": 6,
   "id": "b8b0717a",
   "metadata": {},
   "outputs": [],
   "source": [
    "# convert J to gregorian day\n",
    "df['J'] = df.J0 + 0.5\n",
    "df['F'] = df.J%1\n",
    "df['z'] =  df.J - df.F\n",
    "df['alpha'] = ((df.z - 1867216.25)/36524.25).apply(np.floor)\n",
    "df['A2'] = (df.z + 1 + df.alpha)-((df.alpha/4).apply(np.floor))\n",
    "df['B'] = df.A2 + 1524\n",
    "df['C'] = ((df.B - 122.1)/365.25).apply(np.floor)\n",
    "df['D'] = (365.25*df.C).apply(np.floor)\n",
    "df['E'] = ((df.B - df.D)/30.6001).apply(np.floor)\n",
    "\n",
    "# the day of the month\n",
    "df['day0'] = df.B - df.D - (30.6001*df.E).apply(np.floor) + df.F\n",
    "df['day'] = (df.day0).apply(np.floor)\n",
    "\n",
    "# the month of the day\n",
    "df.loc[df.E <= 14, 'month'] = df.E - 1 \n",
    "df.loc[df.E == 14, 'month'] = df.E - 13\n",
    "df.loc[df.E == 15, 'month'] = df.E - 13\n",
    "\n",
    "# the year \n",
    "df.loc[df.month >= 2, 'year'] = df.C - 4716\n",
    "df.loc[df.month == 1, 'year'] = df.C - 4715\n",
    "df.loc[df.month == 2, 'year'] = df.C - 4715\n",
    "\n",
    "# the time\n",
    "df['hour0'] = (df.day0 - df.day)*24 + 7\n",
    "df['hour'] = (df.hour0).apply(np.floor)\n",
    "df['minute0'] = (df.hour0 - df.hour)*60\n",
    "df['minute'] = (df.minute0).apply(np.floor)\n",
    "df['second'] = ((df.minute0 - df.minute)*60).apply(np.floor)\n",
    "                                                   \n",
    "\n",
    "df.loc[df.hour >= 24, 'day'] = df.day + 1\n",
    "df.loc[df.hour >= 24, 'hour'] = df.hour - 24\n",
    "df.loc[df.minute >= 60, 'hour'] = df.hour + 1\n",
    "df.loc[df.minute >= 60, 'minute'] = df.minute -  60"
   ]
  },
  {
   "cell_type": "code",
   "execution_count": 416,
   "id": "7b924b55",
   "metadata": {},
   "outputs": [
    {
     "name": "stdout",
     "output_type": "stream",
     "text": [
      "\u001b[94mNew Moon phase 🌑\u001b[0m\n",
      "     day  month    year  hour  minute  second\n",
      "0   22.0    1.0  2023.0   2.0    34.0    17.0\n",
      "1   20.0    2.0  2023.0  15.0    18.0    20.0\n",
      "2   22.0    3.0  2023.0   4.0     2.0    23.0\n",
      "3   20.0    4.0  2023.0  16.0    46.0    26.0\n",
      "4   20.0    5.0  2023.0   5.0    30.0    29.0\n",
      "5   18.0    6.0  2023.0  18.0    14.0    31.0\n",
      "6   18.0    7.0  2023.0   6.0    58.0    34.0\n",
      "7   16.0    8.0  2023.0  19.0    42.0    37.0\n",
      "8   15.0    9.0  2023.0   8.0    26.0    40.0\n",
      "9   14.0   10.0  2023.0  21.0    10.0    43.0\n",
      "10  13.0   11.0  2023.0   9.0    54.0    46.0\n",
      "11  12.0   12.0  2023.0  22.0    38.0    49.0\n"
     ]
    }
   ],
   "source": [
    "# print phase of the moon\n",
    "print('\\033[94m' + 'New Moon phase 🌑' + '\\033[0m')\n",
    "newmoon = df[['day', 'month', 'year', 'hour', 'minute', 'second']].head(12)\n",
    "print(newmoon)"
   ]
  },
  {
   "cell_type": "code",
   "execution_count": 417,
   "id": "02c11ed8",
   "metadata": {},
   "outputs": [
    {
     "name": "stdout",
     "output_type": "stream",
     "text": [
      "\u001b[94mFirst Quarter Phase 🌓\u001b[0m\n",
      "     day  month    year  hour  minute  second\n",
      "12  29.0    1.0  2023.0  11.0    45.0    18.0\n",
      "13  28.0    2.0  2023.0   0.0    29.0    21.0\n",
      "14  29.0    3.0  2023.0  13.0    13.0    23.0\n",
      "15  28.0    4.0  2023.0   1.0    57.0    26.0\n",
      "16  27.0    5.0  2023.0  14.0    41.0    29.0\n",
      "17  26.0    6.0  2023.0   3.0    25.0    32.0\n",
      "18  25.0    7.0  2023.0  16.0     9.0    35.0\n",
      "19  24.0    8.0  2023.0   4.0    53.0    38.0\n",
      "20  22.0    9.0  2023.0  17.0    37.0    41.0\n",
      "21  22.0   10.0  2023.0   6.0    21.0    44.0\n",
      "22  20.0   11.0  2023.0  19.0     5.0    47.0\n",
      "23  20.0   12.0  2023.0   7.0    49.0    49.0\n"
     ]
    }
   ],
   "source": [
    "# print phase of the moon\n",
    "print('\\033[94m' + 'First Quarter Phase 🌓' + '\\033[0m')\n",
    "firstquarter = df[['day', 'month', 'year', 'hour', 'minute', 'second']].iloc[12:24]\n",
    "print(firstquarter)"
   ]
  },
  {
   "cell_type": "code",
   "execution_count": 418,
   "id": "9c7010df",
   "metadata": {},
   "outputs": [
    {
     "name": "stdout",
     "output_type": "stream",
     "text": [
      "\u001b[94mFull Moon Phase 🌕\u001b[0m\n",
      "     day  month    year  hour  minute  second\n",
      "24   7.0    1.0  2023.0   8.0    12.0    16.0\n",
      "25   5.0    2.0  2023.0  20.0    56.0    18.0\n",
      "26   7.0    3.0  2023.0   9.0    40.0    21.0\n",
      "27   5.0    4.0  2023.0  22.0    24.0    24.0\n",
      "28   5.0    5.0  2023.0  11.0     8.0    27.0\n",
      "29   3.0    6.0  2023.0  23.0    52.0    30.0\n",
      "30   3.0    7.0  2023.0  12.0    36.0    33.0\n",
      "31   2.0    8.0  2023.0   1.0    20.0    36.0\n",
      "32  31.0    8.0  2023.0  14.0     4.0    39.0\n",
      "33  30.0    9.0  2023.0   2.0    48.0    41.0\n",
      "34  29.0   10.0  2023.0  15.0    32.0    44.0\n",
      "35  28.0   11.0  2023.0   4.0    16.0    47.0\n",
      "36  27.0   12.0  2023.0  17.0     0.0    50.0\n"
     ]
    }
   ],
   "source": [
    "# print phase of the moon\n",
    "print('\\033[94m' + 'Full Moon Phase 🌕' + '\\033[0m')\n",
    "fullmoon = df[['day', 'month', 'year', 'hour', 'minute', 'second']].iloc[24:37]\n",
    "print(fullmoon)"
   ]
  },
  {
   "cell_type": "code",
   "execution_count": 419,
   "id": "97035522",
   "metadata": {
    "scrolled": true
   },
   "outputs": [
    {
     "name": "stdout",
     "output_type": "stream",
     "text": [
      "\u001b[94mThird Quarter Phase 🌗\u001b[0m\n",
      "     day  month    year  hour  minute  second\n",
      "37  14.0    1.0  2023.0  17.0    23.0    16.0\n",
      "38  13.0    2.0  2023.0   6.0     7.0    19.0\n",
      "39  14.0    3.0  2023.0  18.0    51.0    22.0\n",
      "40  13.0    4.0  2023.0   7.0    35.0    25.0\n",
      "41  12.0    5.0  2023.0  20.0    19.0    28.0\n",
      "42  11.0    6.0  2023.0   9.0     3.0    31.0\n",
      "43  10.0    7.0  2023.0  21.0    47.0    34.0\n",
      "44   9.0    8.0  2023.0  10.0    31.0    36.0\n",
      "45   7.0    9.0  2023.0  23.0    15.0    39.0\n",
      "46   7.0   10.0  2023.0  11.0    59.0    42.0\n",
      "47   6.0   11.0  2023.0   0.0    43.0    45.0\n",
      "48   5.0   12.0  2023.0  13.0    27.0    48.0\n"
     ]
    }
   ],
   "source": [
    "# print phase of the moon\n",
    "print('\\033[94m' + 'Third Quarter Phase 🌗' + '\\033[0m')\n",
    "thirdquarter = df[['day', 'month', 'year', 'hour', 'minute', 'second']].tail(12)\n",
    "print(thirdquarter)"
   ]
  }
 ],
 "metadata": {
  "kernelspec": {
   "display_name": "Python 3 (ipykernel)",
   "language": "python",
   "name": "python3"
  },
  "language_info": {
   "codemirror_mode": {
    "name": "ipython",
    "version": 3
   },
   "file_extension": ".py",
   "mimetype": "text/x-python",
   "name": "python",
   "nbconvert_exporter": "python",
   "pygments_lexer": "ipython3",
   "version": "3.9.13"
  }
 },
 "nbformat": 4,
 "nbformat_minor": 5
}
